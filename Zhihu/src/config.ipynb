{
 "cells": [
  {
   "cell_type": "code",
   "execution_count": null,
   "metadata": {
    "collapsed": true
   },
   "outputs": [],
   "source": [
    "class Config(dict):\n",
    "    def __init__(self):\n",
    "        self['class_num'] = 1999\n",
    "        self['embed_num'] = 411722\n",
    "        self['embed_dim'] = 256\n",
    "        self['kernel_num'] = 100\n",
    "        self['kernel_sizes'] = [1,2,3,4,5]\n",
    "        self['dropout'] = 0.5\n",
    "        self['static'] = True\n",
    "        \n",
    "        self['lr'] = 1.0\n",
    "        self['rho'] = 0.95\n",
    "        self['epochs'] = 256\n",
    "        self['batch_size'] = 64\n",
    "        self['log_interval'] = 10\n",
    "        self['test_interval'] = 1000\n",
    "        self['save_interval'] = 5000\n",
    "        self['save_dir'] = 'checkpoints/'\n",
    "        self['shuffle'] = True\n",
    "        self['device'] = 0\n",
    "        self['cuda'] = True\n",
    "        \n",
    "    def update(args):\n",
    "        for key in args:\n",
    "            self[key] = args[key]"
   ]
  }
 ],
 "metadata": {
  "kernelspec": {
   "display_name": "Python 2",
   "language": "python",
   "name": "python2"
  },
  "language_info": {
   "codemirror_mode": {
    "name": "ipython",
    "version": 2
   },
   "file_extension": ".py",
   "mimetype": "text/x-python",
   "name": "python",
   "nbconvert_exporter": "python",
   "pygments_lexer": "ipython2",
   "version": "2.7.12"
  }
 },
 "nbformat": 4,
 "nbformat_minor": 2
}
